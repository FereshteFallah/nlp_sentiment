{
 "cells": [
  {
   "cell_type": "markdown",
   "id": "b485d1a3-96b4-4373-a9dc-f3101da6f4b7",
   "metadata": {},
   "source": [
    "### Sentiment analysis (English event) ###"
   ]
  },
  {
   "cell_type": "code",
   "execution_count": null,
   "id": "d2cb987d-0ed3-4bc2-8459-0c9d552a4920",
   "metadata": {},
   "outputs": [],
   "source": [
    "#pip uninstall keras tensorflow tensorflow-cpu tensorflow-gpu\n",
    "#pip install torch transformers\n"
   ]
  },
  {
   "cell_type": "code",
   "execution_count": 61,
   "id": "4052b005-17a3-44c2-85d4-1accc916c3f2",
   "metadata": {},
   "outputs": [
    {
     "name": "stderr",
     "output_type": "stream",
     "text": [
      "No model was supplied, defaulted to distilbert/distilbert-base-uncased-finetuned-sst-2-english and revision 714eb0f (https://huggingface.co/distilbert/distilbert-base-uncased-finetuned-sst-2-english).\n",
      "Using a pipeline without specifying a model name and revision in production is not recommended.\n",
      "Device set to use mps:0\n"
     ]
    },
    {
     "name": "stdout",
     "output_type": "stream",
     "text": [
      "Label: POSITIVE\n",
      "Confidence: 1.00\n"
     ]
    }
   ],
   "source": [
    "from transformers import pipeline\n",
    "\n",
    "# ساخت مدل تحلیل احساسات\n",
    "sentiment_pipeline = pipeline(\"sentiment-analysis\")\n",
    "\n",
    "# متنی که می‌خوایم تحلیلش کنیم\n",
    "text = \"I love using open source tools for AI. It's amazing and powerful!\"\n",
    "\n",
    "# انجام تحلیل\n",
    "result = sentiment_pipeline(text)[0]\n",
    "\n",
    "# نمایش نتیجه\n",
    "print(f\"Label: {result['label']}\")\n",
    "print(f\"Confidence: {result['score']:.2f}\")\n"
   ]
  }
 ],
 "metadata": {
  "kernelspec": {
   "display_name": "Python [conda env:base] *",
   "language": "python",
   "name": "conda-base-py"
  },
  "language_info": {
   "codemirror_mode": {
    "name": "ipython",
    "version": 3
   },
   "file_extension": ".py",
   "mimetype": "text/x-python",
   "name": "python",
   "nbconvert_exporter": "python",
   "pygments_lexer": "ipython3",
   "version": "3.12.7"
  }
 },
 "nbformat": 4,
 "nbformat_minor": 5
}
